{
  "cells": [
    {
      "cell_type": "markdown",
      "source": [
        "## Import library"
      ],
      "metadata": {
        "id": "FdcQf_X3ygBJ"
      },
      "id": "FdcQf_X3ygBJ"
    },
    {
      "cell_type": "code",
      "execution_count": 1,
      "id": "01a303d8",
      "metadata": {
        "execution": {
          "iopub.execute_input": "2024-08-01T13:31:20.772559Z",
          "iopub.status.busy": "2024-08-01T13:31:20.771654Z",
          "iopub.status.idle": "2024-08-01T13:31:33.334079Z",
          "shell.execute_reply": "2024-08-01T13:31:33.333204Z"
        },
        "id": "01a303d8",
        "papermill": {
          "duration": 12.571125,
          "end_time": "2024-08-01T13:31:33.336516",
          "exception": false,
          "start_time": "2024-08-01T13:31:20.765391",
          "status": "completed"
        },
        "tags": [],
        "colab": {
          "base_uri": "https://localhost:8080/"
        },
        "outputId": "db2a872f-5521-4f10-ceb1-83f538cda1e6"
      },
      "outputs": [
        {
          "output_type": "stream",
          "name": "stderr",
          "text": [
            "[nltk_data] Downloading package stopwords to /root/nltk_data...\n",
            "[nltk_data]   Package stopwords is already up-to-date!\n",
            "[nltk_data] Downloading package punkt to /root/nltk_data...\n",
            "[nltk_data]   Package punkt is already up-to-date!\n",
            "[nltk_data] Downloading package wordnet to /root/nltk_data...\n",
            "[nltk_data]   Package wordnet is already up-to-date!\n",
            "[nltk_data] Downloading package punkt_tab to /root/nltk_data...\n",
            "[nltk_data]   Package punkt_tab is already up-to-date!\n"
          ]
        },
        {
          "output_type": "execute_result",
          "data": {
            "text/plain": [
              "True"
            ]
          },
          "metadata": {},
          "execution_count": 1
        }
      ],
      "source": [
        "import numpy as np\n",
        "import pandas as pd\n",
        "import tensorflow as tf\n",
        "import matplotlib.pyplot as plt\n",
        "import seaborn as sns\n",
        "import nltk\n",
        "import re\n",
        "import string\n",
        "\n",
        "from nltk.corpus import stopwords\n",
        "from nltk.tokenize import word_tokenize\n",
        "from nltk.stem import WordNetLemmatizer\n",
        "\n",
        "from tensorflow.keras.preprocessing.text import Tokenizer\n",
        "from tensorflow.keras.preprocessing.sequence import pad_sequences\n",
        "from tensorflow.keras.models import Sequential\n",
        "from tensorflow.keras.layers import Embedding, LSTM, Dense\n",
        "from sklearn.metrics import confusion_matrix, classification_report\n",
        "\n",
        "nltk.download('stopwords')\n",
        "nltk.download('punkt')\n",
        "nltk.download('wordnet')\n",
        "nltk.download('punkt_tab')"
      ]
    },
    {
      "cell_type": "markdown",
      "source": [
        "## Data Loading"
      ],
      "metadata": {
        "id": "mdZos51NyolW"
      },
      "id": "mdZos51NyolW"
    },
    {
      "cell_type": "code",
      "execution_count": 2,
      "id": "137ef37d",
      "metadata": {
        "execution": {
          "iopub.execute_input": "2024-08-01T13:31:33.348804Z",
          "iopub.status.busy": "2024-08-01T13:31:33.348229Z",
          "iopub.status.idle": "2024-08-01T13:31:34.710713Z",
          "shell.execute_reply": "2024-08-01T13:31:34.709897Z"
        },
        "id": "137ef37d",
        "papermill": {
          "duration": 1.371219,
          "end_time": "2024-08-01T13:31:34.713173",
          "exception": false,
          "start_time": "2024-08-01T13:31:33.341954",
          "status": "completed"
        },
        "tags": []
      },
      "outputs": [],
      "source": [
        "data = pd.read_csv('/content/IMDB Dataset.csv')"
      ]
    },
    {
      "cell_type": "markdown",
      "source": [
        "## Text Preprocessing"
      ],
      "metadata": {
        "id": "6lqtEfnUyurW"
      },
      "id": "6lqtEfnUyurW"
    },
    {
      "cell_type": "code",
      "source": [
        "stop_words = set(stopwords.words('english'))\n",
        "lemmatizer = WordNetLemmatizer()"
      ],
      "metadata": {
        "id": "qA9HOjQJhULy"
      },
      "id": "qA9HOjQJhULy",
      "execution_count": 3,
      "outputs": []
    },
    {
      "cell_type": "code",
      "source": [
        "def preprocess_text(text):\n",
        "    text = text.lower()\n",
        "    text = re.sub(r'<[^>]+>', '', text)\n",
        "    text = re.sub(r'https:\\/\\/[^\\s]+ | www.[^\\s]+', '', text)\n",
        "    text = text.translate(str.maketrans('', '', string.punctuation))\n",
        "    text = re.sub('\\n', ' ', text)\n",
        "    text = re.sub(r'\\w*\\d\\w*', '', text)\n",
        "    text = re.sub(r'\\s+', ' ', text).strip()\n",
        "    tokens = word_tokenize(text)\n",
        "    tokens = [word for word in tokens if word not in stop_words]\n",
        "    tokens = [lemmatizer.lemmatize(word) for word in tokens]\n",
        "    text = ' '.join(tokens)\n",
        "    return text"
      ],
      "metadata": {
        "id": "cqR81Cv9d9EG"
      },
      "id": "cqR81Cv9d9EG",
      "execution_count": 4,
      "outputs": []
    },
    {
      "cell_type": "code",
      "execution_count": 27,
      "id": "966c2adb",
      "metadata": {
        "execution": {
          "iopub.execute_input": "2024-08-01T13:31:34.725406Z",
          "iopub.status.busy": "2024-08-01T13:31:34.724693Z",
          "iopub.status.idle": "2024-08-01T13:31:34.744018Z",
          "shell.execute_reply": "2024-08-01T13:31:34.742913Z"
        },
        "papermill": {
          "duration": 0.027738,
          "end_time": "2024-08-01T13:31:34.746182",
          "exception": false,
          "start_time": "2024-08-01T13:31:34.718444",
          "status": "completed"
        },
        "tags": [],
        "colab": {
          "base_uri": "https://localhost:8080/",
          "height": 206
        },
        "id": "966c2adb",
        "outputId": "d216d153-67e7-4f17-e372-18f07f1d5e2e"
      },
      "outputs": [
        {
          "output_type": "execute_result",
          "data": {
            "text/plain": [
              "                                              review  sentiment\n",
              "0  one reviewer mentioned watching oz episode you...          1\n",
              "1  wonderful little production filming technique ...          1\n",
              "2  thought wonderful way spend time hot summer we...          1\n",
              "3  basically there family little boy jake think t...          0\n",
              "4  petter matteis love time money visually stunni...          1"
            ],
            "text/html": [
              "\n",
              "  <div id=\"df-3399ff28-5ec9-4fa5-af3a-c690cac6c3bf\" class=\"colab-df-container\">\n",
              "    <div>\n",
              "<style scoped>\n",
              "    .dataframe tbody tr th:only-of-type {\n",
              "        vertical-align: middle;\n",
              "    }\n",
              "\n",
              "    .dataframe tbody tr th {\n",
              "        vertical-align: top;\n",
              "    }\n",
              "\n",
              "    .dataframe thead th {\n",
              "        text-align: right;\n",
              "    }\n",
              "</style>\n",
              "<table border=\"1\" class=\"dataframe\">\n",
              "  <thead>\n",
              "    <tr style=\"text-align: right;\">\n",
              "      <th></th>\n",
              "      <th>review</th>\n",
              "      <th>sentiment</th>\n",
              "    </tr>\n",
              "  </thead>\n",
              "  <tbody>\n",
              "    <tr>\n",
              "      <th>0</th>\n",
              "      <td>one reviewer mentioned watching oz episode you...</td>\n",
              "      <td>1</td>\n",
              "    </tr>\n",
              "    <tr>\n",
              "      <th>1</th>\n",
              "      <td>wonderful little production filming technique ...</td>\n",
              "      <td>1</td>\n",
              "    </tr>\n",
              "    <tr>\n",
              "      <th>2</th>\n",
              "      <td>thought wonderful way spend time hot summer we...</td>\n",
              "      <td>1</td>\n",
              "    </tr>\n",
              "    <tr>\n",
              "      <th>3</th>\n",
              "      <td>basically there family little boy jake think t...</td>\n",
              "      <td>0</td>\n",
              "    </tr>\n",
              "    <tr>\n",
              "      <th>4</th>\n",
              "      <td>petter matteis love time money visually stunni...</td>\n",
              "      <td>1</td>\n",
              "    </tr>\n",
              "  </tbody>\n",
              "</table>\n",
              "</div>\n",
              "    <div class=\"colab-df-buttons\">\n",
              "\n",
              "  <div class=\"colab-df-container\">\n",
              "    <button class=\"colab-df-convert\" onclick=\"convertToInteractive('df-3399ff28-5ec9-4fa5-af3a-c690cac6c3bf')\"\n",
              "            title=\"Convert this dataframe to an interactive table.\"\n",
              "            style=\"display:none;\">\n",
              "\n",
              "  <svg xmlns=\"http://www.w3.org/2000/svg\" height=\"24px\" viewBox=\"0 -960 960 960\">\n",
              "    <path d=\"M120-120v-720h720v720H120Zm60-500h600v-160H180v160Zm220 220h160v-160H400v160Zm0 220h160v-160H400v160ZM180-400h160v-160H180v160Zm440 0h160v-160H620v160ZM180-180h160v-160H180v160Zm440 0h160v-160H620v160Z\"/>\n",
              "  </svg>\n",
              "    </button>\n",
              "\n",
              "  <style>\n",
              "    .colab-df-container {\n",
              "      display:flex;\n",
              "      gap: 12px;\n",
              "    }\n",
              "\n",
              "    .colab-df-convert {\n",
              "      background-color: #E8F0FE;\n",
              "      border: none;\n",
              "      border-radius: 50%;\n",
              "      cursor: pointer;\n",
              "      display: none;\n",
              "      fill: #1967D2;\n",
              "      height: 32px;\n",
              "      padding: 0 0 0 0;\n",
              "      width: 32px;\n",
              "    }\n",
              "\n",
              "    .colab-df-convert:hover {\n",
              "      background-color: #E2EBFA;\n",
              "      box-shadow: 0px 1px 2px rgba(60, 64, 67, 0.3), 0px 1px 3px 1px rgba(60, 64, 67, 0.15);\n",
              "      fill: #174EA6;\n",
              "    }\n",
              "\n",
              "    .colab-df-buttons div {\n",
              "      margin-bottom: 4px;\n",
              "    }\n",
              "\n",
              "    [theme=dark] .colab-df-convert {\n",
              "      background-color: #3B4455;\n",
              "      fill: #D2E3FC;\n",
              "    }\n",
              "\n",
              "    [theme=dark] .colab-df-convert:hover {\n",
              "      background-color: #434B5C;\n",
              "      box-shadow: 0px 1px 3px 1px rgba(0, 0, 0, 0.15);\n",
              "      filter: drop-shadow(0px 1px 2px rgba(0, 0, 0, 0.3));\n",
              "      fill: #FFFFFF;\n",
              "    }\n",
              "  </style>\n",
              "\n",
              "    <script>\n",
              "      const buttonEl =\n",
              "        document.querySelector('#df-3399ff28-5ec9-4fa5-af3a-c690cac6c3bf button.colab-df-convert');\n",
              "      buttonEl.style.display =\n",
              "        google.colab.kernel.accessAllowed ? 'block' : 'none';\n",
              "\n",
              "      async function convertToInteractive(key) {\n",
              "        const element = document.querySelector('#df-3399ff28-5ec9-4fa5-af3a-c690cac6c3bf');\n",
              "        const dataTable =\n",
              "          await google.colab.kernel.invokeFunction('convertToInteractive',\n",
              "                                                    [key], {});\n",
              "        if (!dataTable) return;\n",
              "\n",
              "        const docLinkHtml = 'Like what you see? Visit the ' +\n",
              "          '<a target=\"_blank\" href=https://colab.research.google.com/notebooks/data_table.ipynb>data table notebook</a>'\n",
              "          + ' to learn more about interactive tables.';\n",
              "        element.innerHTML = '';\n",
              "        dataTable['output_type'] = 'display_data';\n",
              "        await google.colab.output.renderOutput(dataTable, element);\n",
              "        const docLink = document.createElement('div');\n",
              "        docLink.innerHTML = docLinkHtml;\n",
              "        element.appendChild(docLink);\n",
              "      }\n",
              "    </script>\n",
              "  </div>\n",
              "\n",
              "\n",
              "    <div id=\"df-b907a0cf-79b3-4d27-9f4b-2c070b78e659\">\n",
              "      <button class=\"colab-df-quickchart\" onclick=\"quickchart('df-b907a0cf-79b3-4d27-9f4b-2c070b78e659')\"\n",
              "                title=\"Suggest charts\"\n",
              "                style=\"display:none;\">\n",
              "\n",
              "<svg xmlns=\"http://www.w3.org/2000/svg\" height=\"24px\"viewBox=\"0 0 24 24\"\n",
              "     width=\"24px\">\n",
              "    <g>\n",
              "        <path d=\"M19 3H5c-1.1 0-2 .9-2 2v14c0 1.1.9 2 2 2h14c1.1 0 2-.9 2-2V5c0-1.1-.9-2-2-2zM9 17H7v-7h2v7zm4 0h-2V7h2v10zm4 0h-2v-4h2v4z\"/>\n",
              "    </g>\n",
              "</svg>\n",
              "      </button>\n",
              "\n",
              "<style>\n",
              "  .colab-df-quickchart {\n",
              "      --bg-color: #E8F0FE;\n",
              "      --fill-color: #1967D2;\n",
              "      --hover-bg-color: #E2EBFA;\n",
              "      --hover-fill-color: #174EA6;\n",
              "      --disabled-fill-color: #AAA;\n",
              "      --disabled-bg-color: #DDD;\n",
              "  }\n",
              "\n",
              "  [theme=dark] .colab-df-quickchart {\n",
              "      --bg-color: #3B4455;\n",
              "      --fill-color: #D2E3FC;\n",
              "      --hover-bg-color: #434B5C;\n",
              "      --hover-fill-color: #FFFFFF;\n",
              "      --disabled-bg-color: #3B4455;\n",
              "      --disabled-fill-color: #666;\n",
              "  }\n",
              "\n",
              "  .colab-df-quickchart {\n",
              "    background-color: var(--bg-color);\n",
              "    border: none;\n",
              "    border-radius: 50%;\n",
              "    cursor: pointer;\n",
              "    display: none;\n",
              "    fill: var(--fill-color);\n",
              "    height: 32px;\n",
              "    padding: 0;\n",
              "    width: 32px;\n",
              "  }\n",
              "\n",
              "  .colab-df-quickchart:hover {\n",
              "    background-color: var(--hover-bg-color);\n",
              "    box-shadow: 0 1px 2px rgba(60, 64, 67, 0.3), 0 1px 3px 1px rgba(60, 64, 67, 0.15);\n",
              "    fill: var(--button-hover-fill-color);\n",
              "  }\n",
              "\n",
              "  .colab-df-quickchart-complete:disabled,\n",
              "  .colab-df-quickchart-complete:disabled:hover {\n",
              "    background-color: var(--disabled-bg-color);\n",
              "    fill: var(--disabled-fill-color);\n",
              "    box-shadow: none;\n",
              "  }\n",
              "\n",
              "  .colab-df-spinner {\n",
              "    border: 2px solid var(--fill-color);\n",
              "    border-color: transparent;\n",
              "    border-bottom-color: var(--fill-color);\n",
              "    animation:\n",
              "      spin 1s steps(1) infinite;\n",
              "  }\n",
              "\n",
              "  @keyframes spin {\n",
              "    0% {\n",
              "      border-color: transparent;\n",
              "      border-bottom-color: var(--fill-color);\n",
              "      border-left-color: var(--fill-color);\n",
              "    }\n",
              "    20% {\n",
              "      border-color: transparent;\n",
              "      border-left-color: var(--fill-color);\n",
              "      border-top-color: var(--fill-color);\n",
              "    }\n",
              "    30% {\n",
              "      border-color: transparent;\n",
              "      border-left-color: var(--fill-color);\n",
              "      border-top-color: var(--fill-color);\n",
              "      border-right-color: var(--fill-color);\n",
              "    }\n",
              "    40% {\n",
              "      border-color: transparent;\n",
              "      border-right-color: var(--fill-color);\n",
              "      border-top-color: var(--fill-color);\n",
              "    }\n",
              "    60% {\n",
              "      border-color: transparent;\n",
              "      border-right-color: var(--fill-color);\n",
              "    }\n",
              "    80% {\n",
              "      border-color: transparent;\n",
              "      border-right-color: var(--fill-color);\n",
              "      border-bottom-color: var(--fill-color);\n",
              "    }\n",
              "    90% {\n",
              "      border-color: transparent;\n",
              "      border-bottom-color: var(--fill-color);\n",
              "    }\n",
              "  }\n",
              "</style>\n",
              "\n",
              "      <script>\n",
              "        async function quickchart(key) {\n",
              "          const quickchartButtonEl =\n",
              "            document.querySelector('#' + key + ' button');\n",
              "          quickchartButtonEl.disabled = true;  // To prevent multiple clicks.\n",
              "          quickchartButtonEl.classList.add('colab-df-spinner');\n",
              "          try {\n",
              "            const charts = await google.colab.kernel.invokeFunction(\n",
              "                'suggestCharts', [key], {});\n",
              "          } catch (error) {\n",
              "            console.error('Error during call to suggestCharts:', error);\n",
              "          }\n",
              "          quickchartButtonEl.classList.remove('colab-df-spinner');\n",
              "          quickchartButtonEl.classList.add('colab-df-quickchart-complete');\n",
              "        }\n",
              "        (() => {\n",
              "          let quickchartButtonEl =\n",
              "            document.querySelector('#df-b907a0cf-79b3-4d27-9f4b-2c070b78e659 button');\n",
              "          quickchartButtonEl.style.display =\n",
              "            google.colab.kernel.accessAllowed ? 'block' : 'none';\n",
              "        })();\n",
              "      </script>\n",
              "    </div>\n",
              "\n",
              "    </div>\n",
              "  </div>\n"
            ],
            "application/vnd.google.colaboratory.intrinsic+json": {
              "type": "dataframe",
              "variable_name": "data",
              "summary": "{\n  \"name\": \"data\",\n  \"rows\": 50000,\n  \"fields\": [\n    {\n      \"column\": \"review\",\n      \"properties\": {\n        \"dtype\": \"string\",\n        \"num_unique_values\": 49577,\n        \"samples\": [\n          \"sat enjoyable fast paced min rollroll country boy mat toby malone dream becoming sport star mat travel city picked cousin george damien robertson well plan anyway george involved gangster tiny john batchelor making delivery needless say mat get dragged george world thought great mat teach george moral respect george teach mat relax enjoy life little toby damien well cast together outstanding jobevery character movie complimented well two cop great david ngoombujarra brought great comic relief movie tiny played likable gangster reminded one favourite character pando two handsone thing liked roll showcased city grew lived year perth fremantle good see sight landmark grew especially old ferris wheelthis rock n roll\",\n          \"twenty year ago five year old boy michael hawthorne witnessed father killing mother axe empty road committing suicide later present day michael gordon currie invite girlfriend peg stacy grant best friend chris myc agnew jennifer emmanuelle vaugier lisa ann kelly benson ned brendon beiser mitch maldive phillip rhys trish rachel hayward spend halloween country grandparent farm asks friend wear costume would represent greatest innermost fear together indian friend crow byron chief moon would perform ancient indian celebration using carved wooden dummy morty jon fedele would eliminate fear forever greatest fear michael become serial killer like father something go wrong morty turn father killing friendsthe fear resurrection disappointing pointless slash movie us interesting concept eliminating greatest innermost fear friend grows messy screenplay full clich\\u00e9s exaggerated performance like example m betsy palmer others weak general acting good unfortunately explanation dummy brought live spite surrounded close friend group feel pain sorrow one dy lowpace along fifty minute could used built better dramatic situation end michael show charm father interested noticed along story know whether previous reference edited dvd released brazil minute running time special effect reasonable bmovie vote fourtitle brazil fear uma noite de halloween fear one night halloween\",\n          \"september jonny kennedy died terrible genetic condition called dystrophic epidermolysis bullosa eb meant skin literally fell slightest touch leaving body covered agonising sore leading final fight skin cancer last month jonny decided work filmmaker patrick collerton document life death result film first broadcast march uplifting confounding provocatively humorous story singular man shying away grim reality eb film also celebration life lived full produced directed patrick collerton first shown march boy whose skin fell become talked documentary year attracted nearly five million viewer screening public donated half million pound jonnys charity debra jonny kennedy memorial fund set raise another half million aim ensuring jonny kennedy left one million pound legacy\"\n        ],\n        \"semantic_type\": \"\",\n        \"description\": \"\"\n      }\n    },\n    {\n      \"column\": \"sentiment\",\n      \"properties\": {\n        \"dtype\": \"number\",\n        \"std\": 0,\n        \"min\": 0,\n        \"max\": 1,\n        \"num_unique_values\": 2,\n        \"samples\": [\n          0,\n          1\n        ],\n        \"semantic_type\": \"\",\n        \"description\": \"\"\n      }\n    }\n  ]\n}"
            }
          },
          "metadata": {},
          "execution_count": 27
        }
      ],
      "source": [
        "data['review'] = data['review'].apply(preprocess_text)\n",
        "data.head()"
      ]
    },
    {
      "cell_type": "code",
      "execution_count": 6,
      "id": "16453e29",
      "metadata": {
        "execution": {
          "iopub.execute_input": "2024-08-01T13:31:34.769379Z",
          "iopub.status.busy": "2024-08-01T13:31:34.768738Z",
          "iopub.status.idle": "2024-08-01T13:31:34.774746Z",
          "shell.execute_reply": "2024-08-01T13:31:34.773804Z"
        },
        "papermill": {
          "duration": 0.014678,
          "end_time": "2024-08-01T13:31:34.776947",
          "exception": false,
          "start_time": "2024-08-01T13:31:34.762269",
          "status": "completed"
        },
        "tags": [],
        "colab": {
          "base_uri": "https://localhost:8080/"
        },
        "id": "16453e29",
        "outputId": "622869d4-80aa-4b3e-dfde-64dfb1ade7e4"
      },
      "outputs": [
        {
          "output_type": "execute_result",
          "data": {
            "text/plain": [
              "(50000, 2)"
            ]
          },
          "metadata": {},
          "execution_count": 6
        }
      ],
      "source": [
        "data.shape"
      ]
    },
    {
      "cell_type": "code",
      "execution_count": 7,
      "id": "24decbe4",
      "metadata": {
        "execution": {
          "iopub.execute_input": "2024-08-01T13:31:34.790073Z",
          "iopub.status.busy": "2024-08-01T13:31:34.789238Z",
          "iopub.status.idle": "2024-08-01T13:31:34.804960Z",
          "shell.execute_reply": "2024-08-01T13:31:34.803968Z"
        },
        "papermill": {
          "duration": 0.024511,
          "end_time": "2024-08-01T13:31:34.807047",
          "exception": false,
          "start_time": "2024-08-01T13:31:34.782536",
          "status": "completed"
        },
        "tags": [],
        "colab": {
          "base_uri": "https://localhost:8080/",
          "height": 178
        },
        "id": "24decbe4",
        "outputId": "60312e2f-dba1-4594-8ae1-2e0040c45026"
      },
      "outputs": [
        {
          "output_type": "execute_result",
          "data": {
            "text/plain": [
              "sentiment\n",
              "positive    25000\n",
              "negative    25000\n",
              "Name: count, dtype: int64"
            ],
            "text/html": [
              "<div>\n",
              "<style scoped>\n",
              "    .dataframe tbody tr th:only-of-type {\n",
              "        vertical-align: middle;\n",
              "    }\n",
              "\n",
              "    .dataframe tbody tr th {\n",
              "        vertical-align: top;\n",
              "    }\n",
              "\n",
              "    .dataframe thead th {\n",
              "        text-align: right;\n",
              "    }\n",
              "</style>\n",
              "<table border=\"1\" class=\"dataframe\">\n",
              "  <thead>\n",
              "    <tr style=\"text-align: right;\">\n",
              "      <th></th>\n",
              "      <th>count</th>\n",
              "    </tr>\n",
              "    <tr>\n",
              "      <th>sentiment</th>\n",
              "      <th></th>\n",
              "    </tr>\n",
              "  </thead>\n",
              "  <tbody>\n",
              "    <tr>\n",
              "      <th>positive</th>\n",
              "      <td>25000</td>\n",
              "    </tr>\n",
              "    <tr>\n",
              "      <th>negative</th>\n",
              "      <td>25000</td>\n",
              "    </tr>\n",
              "  </tbody>\n",
              "</table>\n",
              "</div><br><label><b>dtype:</b> int64</label>"
            ]
          },
          "metadata": {},
          "execution_count": 7
        }
      ],
      "source": [
        "data.sentiment.value_counts()"
      ]
    },
    {
      "cell_type": "code",
      "execution_count": 8,
      "id": "b811687b",
      "metadata": {
        "execution": {
          "iopub.execute_input": "2024-08-01T13:31:34.819996Z",
          "iopub.status.busy": "2024-08-01T13:31:34.819590Z",
          "iopub.status.idle": "2024-08-01T13:31:34.837487Z",
          "shell.execute_reply": "2024-08-01T13:31:34.836407Z"
        },
        "papermill": {
          "duration": 0.026868,
          "end_time": "2024-08-01T13:31:34.839653",
          "exception": false,
          "start_time": "2024-08-01T13:31:34.812785",
          "status": "completed"
        },
        "tags": [],
        "colab": {
          "base_uri": "https://localhost:8080/",
          "height": 147
        },
        "id": "b811687b",
        "outputId": "2083e6de-0fe8-4478-acc7-70f97fe9f1b9"
      },
      "outputs": [
        {
          "output_type": "execute_result",
          "data": {
            "text/plain": [
              "review       0\n",
              "sentiment    0\n",
              "dtype: int64"
            ],
            "text/html": [
              "<div>\n",
              "<style scoped>\n",
              "    .dataframe tbody tr th:only-of-type {\n",
              "        vertical-align: middle;\n",
              "    }\n",
              "\n",
              "    .dataframe tbody tr th {\n",
              "        vertical-align: top;\n",
              "    }\n",
              "\n",
              "    .dataframe thead th {\n",
              "        text-align: right;\n",
              "    }\n",
              "</style>\n",
              "<table border=\"1\" class=\"dataframe\">\n",
              "  <thead>\n",
              "    <tr style=\"text-align: right;\">\n",
              "      <th></th>\n",
              "      <th>0</th>\n",
              "    </tr>\n",
              "  </thead>\n",
              "  <tbody>\n",
              "    <tr>\n",
              "      <th>review</th>\n",
              "      <td>0</td>\n",
              "    </tr>\n",
              "    <tr>\n",
              "      <th>sentiment</th>\n",
              "      <td>0</td>\n",
              "    </tr>\n",
              "  </tbody>\n",
              "</table>\n",
              "</div><br><label><b>dtype:</b> int64</label>"
            ]
          },
          "metadata": {},
          "execution_count": 8
        }
      ],
      "source": [
        "data.isna().sum()"
      ]
    },
    {
      "cell_type": "markdown",
      "source": [
        "### Tokenization and Padding"
      ],
      "metadata": {
        "id": "w97fpeaGy23a"
      },
      "id": "w97fpeaGy23a"
    },
    {
      "cell_type": "code",
      "execution_count": 9,
      "id": "c7bf3962",
      "metadata": {
        "execution": {
          "iopub.execute_input": "2024-08-01T13:31:34.865400Z",
          "iopub.status.busy": "2024-08-01T13:31:34.864528Z",
          "iopub.status.idle": "2024-08-01T13:31:52.969725Z",
          "shell.execute_reply": "2024-08-01T13:31:52.968739Z"
        },
        "id": "c7bf3962",
        "papermill": {
          "duration": 18.114761,
          "end_time": "2024-08-01T13:31:52.972149",
          "exception": false,
          "start_time": "2024-08-01T13:31:34.857388",
          "status": "completed"
        },
        "tags": []
      },
      "outputs": [],
      "source": [
        "tokenizer = Tokenizer(num_words=5000)\n",
        "tokenizer.fit_on_texts(data['review'])\n",
        "sequences = tokenizer.texts_to_sequences(data['review'])\n",
        "padded_sequences = pad_sequences(sequences, maxlen=100)"
      ]
    },
    {
      "cell_type": "code",
      "execution_count": 10,
      "id": "d0b88095",
      "metadata": {
        "execution": {
          "iopub.execute_input": "2024-08-01T13:31:52.986069Z",
          "iopub.status.busy": "2024-08-01T13:31:52.985416Z",
          "iopub.status.idle": "2024-08-01T13:31:53.013870Z",
          "shell.execute_reply": "2024-08-01T13:31:53.012930Z"
        },
        "papermill": {
          "duration": 0.037849,
          "end_time": "2024-08-01T13:31:53.016071",
          "exception": false,
          "start_time": "2024-08-01T13:31:52.978222",
          "status": "completed"
        },
        "tags": [],
        "id": "d0b88095"
      },
      "outputs": [],
      "source": [
        "def convert_sentiment(sentiment):\n",
        "    if sentiment == 'positive':\n",
        "        return 1\n",
        "    else:\n",
        "        return 0\n",
        "\n",
        "data['sentiment'] = data['sentiment'].apply(convert_sentiment)"
      ]
    },
    {
      "cell_type": "markdown",
      "source": [
        "### Splitting Data"
      ],
      "metadata": {
        "id": "GKi6j75Yy8oG"
      },
      "id": "GKi6j75Yy8oG"
    },
    {
      "cell_type": "code",
      "execution_count": 11,
      "id": "3fc082a7",
      "metadata": {
        "execution": {
          "iopub.execute_input": "2024-08-01T13:31:53.030071Z",
          "iopub.status.busy": "2024-08-01T13:31:53.029660Z",
          "iopub.status.idle": "2024-08-01T13:31:53.869591Z",
          "shell.execute_reply": "2024-08-01T13:31:53.868609Z"
        },
        "id": "3fc082a7",
        "papermill": {
          "duration": 0.849777,
          "end_time": "2024-08-01T13:31:53.872205",
          "exception": false,
          "start_time": "2024-08-01T13:31:53.022428",
          "status": "completed"
        },
        "tags": []
      },
      "outputs": [],
      "source": [
        "from sklearn.model_selection import train_test_split\n",
        "X_train, X_test, y_train, y_test = train_test_split(padded_sequences, data['sentiment'], test_size=0.2)\n"
      ]
    },
    {
      "cell_type": "markdown",
      "source": [
        "## Model LSTM"
      ],
      "metadata": {
        "id": "gq8smv2izAaJ"
      },
      "id": "gq8smv2izAaJ"
    },
    {
      "cell_type": "code",
      "execution_count": 12,
      "id": "e48b8099",
      "metadata": {
        "execution": {
          "iopub.execute_input": "2024-08-01T13:31:53.885910Z",
          "iopub.status.busy": "2024-08-01T13:31:53.885527Z",
          "iopub.status.idle": "2024-08-01T13:31:53.948295Z",
          "shell.execute_reply": "2024-08-01T13:31:53.947382Z"
        },
        "id": "e48b8099",
        "papermill": {
          "duration": 0.072294,
          "end_time": "2024-08-01T13:31:53.950643",
          "exception": false,
          "start_time": "2024-08-01T13:31:53.878349",
          "status": "completed"
        },
        "tags": []
      },
      "outputs": [],
      "source": [
        "model = Sequential([\n",
        "    Embedding(5000, 64),\n",
        "    LSTM(64),\n",
        "    Dense(1, activation='sigmoid')\n",
        "])\n",
        "\n",
        "model.compile(loss='binary_crossentropy', optimizer='adam', metrics=['accuracy'])\n"
      ]
    },
    {
      "cell_type": "code",
      "execution_count": 13,
      "id": "5f21b7ac",
      "metadata": {
        "execution": {
          "iopub.execute_input": "2024-08-01T13:31:53.966121Z",
          "iopub.status.busy": "2024-08-01T13:31:53.965232Z",
          "iopub.status.idle": "2024-08-01T13:41:03.745967Z",
          "shell.execute_reply": "2024-08-01T13:41:03.744922Z"
        },
        "id": "5f21b7ac",
        "papermill": {
          "duration": 550.203451,
          "end_time": "2024-08-01T13:41:04.161329",
          "exception": false,
          "start_time": "2024-08-01T13:31:53.957878",
          "status": "completed"
        },
        "tags": [],
        "colab": {
          "base_uri": "https://localhost:8080/"
        },
        "outputId": "33700dda-4391-4f97-ce5c-7a00b7c89d61"
      },
      "outputs": [
        {
          "output_type": "stream",
          "name": "stdout",
          "text": [
            "Epoch 1/5\n",
            "\u001b[1m1250/1250\u001b[0m \u001b[32m━━━━━━━━━━━━━━━━━━━━\u001b[0m\u001b[37m\u001b[0m \u001b[1m80s\u001b[0m 62ms/step - accuracy: 0.7753 - loss: 0.4572 - val_accuracy: 0.8596 - val_loss: 0.3261\n",
            "Epoch 2/5\n",
            "\u001b[1m1250/1250\u001b[0m \u001b[32m━━━━━━━━━━━━━━━━━━━━\u001b[0m\u001b[37m\u001b[0m \u001b[1m76s\u001b[0m 57ms/step - accuracy: 0.8884 - loss: 0.2754 - val_accuracy: 0.8715 - val_loss: 0.3049\n",
            "Epoch 3/5\n",
            "\u001b[1m1250/1250\u001b[0m \u001b[32m━━━━━━━━━━━━━━━━━━━━\u001b[0m\u001b[37m\u001b[0m \u001b[1m79s\u001b[0m 55ms/step - accuracy: 0.9119 - loss: 0.2216 - val_accuracy: 0.8716 - val_loss: 0.3249\n",
            "Epoch 4/5\n",
            "\u001b[1m1250/1250\u001b[0m \u001b[32m━━━━━━━━━━━━━━━━━━━━\u001b[0m\u001b[37m\u001b[0m \u001b[1m78s\u001b[0m 52ms/step - accuracy: 0.9295 - loss: 0.1789 - val_accuracy: 0.8732 - val_loss: 0.3396\n",
            "Epoch 5/5\n",
            "\u001b[1m1250/1250\u001b[0m \u001b[32m━━━━━━━━━━━━━━━━━━━━\u001b[0m\u001b[37m\u001b[0m \u001b[1m85s\u001b[0m 55ms/step - accuracy: 0.9434 - loss: 0.1487 - val_accuracy: 0.8585 - val_loss: 0.4118\n"
          ]
        },
        {
          "output_type": "execute_result",
          "data": {
            "text/plain": [
              "<keras.src.callbacks.history.History at 0x7c39c8fddd90>"
            ]
          },
          "metadata": {},
          "execution_count": 13
        }
      ],
      "source": [
        "model.fit(X_train, y_train, epochs=5, batch_size=32, validation_data=(X_test, y_test))"
      ]
    },
    {
      "cell_type": "code",
      "execution_count": 14,
      "id": "0ff4b498",
      "metadata": {
        "execution": {
          "iopub.execute_input": "2024-08-01T13:41:05.985597Z",
          "iopub.status.busy": "2024-08-01T13:41:05.985124Z",
          "iopub.status.idle": "2024-08-01T13:41:10.739977Z",
          "shell.execute_reply": "2024-08-01T13:41:10.738780Z"
        },
        "id": "0ff4b498",
        "papermill": {
          "duration": 5.253243,
          "end_time": "2024-08-01T13:41:10.742286",
          "exception": false,
          "start_time": "2024-08-01T13:41:05.489043",
          "status": "completed"
        },
        "tags": [],
        "colab": {
          "base_uri": "https://localhost:8080/"
        },
        "outputId": "e933c5f2-9849-4296-f9b5-8cb7c2aaa9bc"
      },
      "outputs": [
        {
          "output_type": "stream",
          "name": "stdout",
          "text": [
            "\u001b[1m313/313\u001b[0m \u001b[32m━━━━━━━━━━━━━━━━━━━━\u001b[0m\u001b[37m\u001b[0m \u001b[1m5s\u001b[0m 16ms/step - accuracy: 0.8644 - loss: 0.3943\n",
            "Accuracy: 0.8585000038146973\n"
          ]
        }
      ],
      "source": [
        "loss, accuracy = model.evaluate(X_test, y_test)\n",
        "print('Accuracy:', accuracy)\n"
      ]
    },
    {
      "cell_type": "code",
      "execution_count": 16,
      "id": "fde56627",
      "metadata": {
        "execution": {
          "iopub.execute_input": "2024-08-01T13:41:12.777620Z",
          "iopub.status.busy": "2024-08-01T13:41:12.777260Z",
          "iopub.status.idle": "2024-08-01T13:41:17.928692Z",
          "shell.execute_reply": "2024-08-01T13:41:17.927620Z"
        },
        "papermill": {
          "duration": 5.637432,
          "end_time": "2024-08-01T13:41:17.931157",
          "exception": false,
          "start_time": "2024-08-01T13:41:12.293725",
          "status": "completed"
        },
        "tags": [],
        "colab": {
          "base_uri": "https://localhost:8080/"
        },
        "id": "fde56627",
        "outputId": "e3bd40e5-aa74-46d9-aeed-8f9c2e7b3989"
      },
      "outputs": [
        {
          "output_type": "stream",
          "name": "stdout",
          "text": [
            "\u001b[1m313/313\u001b[0m \u001b[32m━━━━━━━━━━━━━━━━━━━━\u001b[0m\u001b[37m\u001b[0m \u001b[1m5s\u001b[0m 14ms/step\n"
          ]
        }
      ],
      "source": [
        "y_pred = model.predict(X_test)\n",
        "threshold = 0.5\n",
        "y_pred_classes = (y_pred > threshold).astype(int)"
      ]
    },
    {
      "cell_type": "code",
      "execution_count": 17,
      "id": "4fa64db2",
      "metadata": {
        "execution": {
          "iopub.execute_input": "2024-08-01T13:41:18.804572Z",
          "iopub.status.busy": "2024-08-01T13:41:18.804205Z",
          "iopub.status.idle": "2024-08-01T13:41:18.812487Z",
          "shell.execute_reply": "2024-08-01T13:41:18.811722Z"
        },
        "papermill": {
          "duration": 0.438834,
          "end_time": "2024-08-01T13:41:18.814494",
          "exception": false,
          "start_time": "2024-08-01T13:41:18.375660",
          "status": "completed"
        },
        "tags": [],
        "id": "4fa64db2"
      },
      "outputs": [],
      "source": [
        "conf_matrix = confusion_matrix(y_test, y_pred_classes)"
      ]
    },
    {
      "cell_type": "code",
      "execution_count": 18,
      "id": "5e26cbea",
      "metadata": {
        "execution": {
          "iopub.execute_input": "2024-08-01T13:41:19.723975Z",
          "iopub.status.busy": "2024-08-01T13:41:19.723563Z",
          "iopub.status.idle": "2024-08-01T13:41:20.017825Z",
          "shell.execute_reply": "2024-08-01T13:41:20.016666Z"
        },
        "papermill": {
          "duration": 0.782982,
          "end_time": "2024-08-01T13:41:20.020073",
          "exception": false,
          "start_time": "2024-08-01T13:41:19.237091",
          "status": "completed"
        },
        "tags": [],
        "colab": {
          "base_uri": "https://localhost:8080/",
          "height": 564
        },
        "id": "5e26cbea",
        "outputId": "be73a293-58cd-4b01-9cde-00729bfad999"
      },
      "outputs": [
        {
          "output_type": "display_data",
          "data": {
            "text/plain": [
              "<Figure size 800x600 with 2 Axes>"
            ],
            "image/png": "[encoded data removed]"
          },
          "metadata": {}
        }
      ],
      "source": [
        "plt.figure(figsize=(8, 6))\n",
        "sns.heatmap(conf_matrix, annot=True, fmt='d', cmap='Blues')\n",
        "plt.xlabel('Predicted')\n",
        "plt.ylabel('True')\n",
        "plt.title('Confusion Matrix')\n",
        "plt.show()"
      ]
    },
    {
      "cell_type": "code",
      "execution_count": 19,
      "id": "704441ae",
      "metadata": {
        "execution": {
          "iopub.execute_input": "2024-08-01T13:41:20.875357Z",
          "iopub.status.busy": "2024-08-01T13:41:20.875001Z",
          "iopub.status.idle": "2024-08-01T13:41:20.906419Z",
          "shell.execute_reply": "2024-08-01T13:41:20.905358Z"
        },
        "papermill": {
          "duration": 0.460836,
          "end_time": "2024-08-01T13:41:20.908795",
          "exception": false,
          "start_time": "2024-08-01T13:41:20.447959",
          "status": "completed"
        },
        "tags": [],
        "colab": {
          "base_uri": "https://localhost:8080/"
        },
        "id": "704441ae",
        "outputId": "e6a19f72-0aa0-43c3-9352-265bd99be0e6"
      },
      "outputs": [
        {
          "output_type": "stream",
          "name": "stdout",
          "text": [
            "              precision    recall  f1-score   support\n",
            "\n",
            "           0       0.84      0.89      0.86      5025\n",
            "           1       0.89      0.82      0.85      4975\n",
            "\n",
            "    accuracy                           0.86     10000\n",
            "   macro avg       0.86      0.86      0.86     10000\n",
            "weighted avg       0.86      0.86      0.86     10000\n",
            "\n"
          ]
        }
      ],
      "source": [
        "print(classification_report(y_test, y_pred_classes))"
      ]
    },
    {
      "cell_type": "markdown",
      "source": [
        "## Model RNN"
      ],
      "metadata": {
        "id": "SGMCOcbVzWLO"
      },
      "id": "SGMCOcbVzWLO"
    },
    {
      "cell_type": "code",
      "execution_count": 20,
      "id": "787806f2",
      "metadata": {
        "execution": {
          "iopub.execute_input": "2024-08-01T13:41:21.822352Z",
          "iopub.status.busy": "2024-08-01T13:41:21.821980Z",
          "iopub.status.idle": "2024-08-01T13:41:21.840372Z",
          "shell.execute_reply": "2024-08-01T13:41:21.839507Z"
        },
        "papermill": {
          "duration": 0.509969,
          "end_time": "2024-08-01T13:41:21.842783",
          "exception": false,
          "start_time": "2024-08-01T13:41:21.332814",
          "status": "completed"
        },
        "tags": [],
        "id": "787806f2"
      },
      "outputs": [],
      "source": [
        "from keras.layers import SimpleRNN\n",
        "\n",
        "modelRNN = Sequential([\n",
        "  Embedding(5000, 64),\n",
        "  SimpleRNN(64),\n",
        "  Dense(1, activation='sigmoid')\n",
        "])\n",
        "\n",
        "modelRNN.compile(loss='binary_crossentropy', optimizer='adam', metrics=['accuracy'])"
      ]
    },
    {
      "cell_type": "code",
      "execution_count": 21,
      "id": "1fcbebf2",
      "metadata": {
        "execution": {
          "iopub.execute_input": "2024-08-01T13:41:22.701642Z",
          "iopub.status.busy": "2024-08-01T13:41:22.700726Z",
          "iopub.status.idle": "2024-08-01T13:46:02.780473Z",
          "shell.execute_reply": "2024-08-01T13:46:02.779472Z"
        },
        "papermill": {
          "duration": 280.51424,
          "end_time": "2024-08-01T13:46:02.782721",
          "exception": false,
          "start_time": "2024-08-01T13:41:22.268481",
          "status": "completed"
        },
        "tags": [],
        "colab": {
          "base_uri": "https://localhost:8080/"
        },
        "id": "1fcbebf2",
        "outputId": "a7d27f3b-2ada-4083-c194-42b0ae7e15c9"
      },
      "outputs": [
        {
          "output_type": "stream",
          "name": "stdout",
          "text": [
            "Epoch 1/5\n",
            "\u001b[1m1250/1250\u001b[0m \u001b[32m━━━━━━━━━━━━━━━━━━━━\u001b[0m\u001b[37m\u001b[0m \u001b[1m37s\u001b[0m 28ms/step - accuracy: 0.6401 - loss: 0.6070 - val_accuracy: 0.7354 - val_loss: 0.5281\n",
            "Epoch 2/5\n",
            "\u001b[1m1250/1250\u001b[0m \u001b[32m━━━━━━━━━━━━━━━━━━━━\u001b[0m\u001b[37m\u001b[0m \u001b[1m41s\u001b[0m 28ms/step - accuracy: 0.8321 - loss: 0.3855 - val_accuracy: 0.8326 - val_loss: 0.4061\n",
            "Epoch 3/5\n",
            "\u001b[1m1250/1250\u001b[0m \u001b[32m━━━━━━━━━━━━━━━━━━━━\u001b[0m\u001b[37m\u001b[0m \u001b[1m41s\u001b[0m 28ms/step - accuracy: 0.8250 - loss: 0.3864 - val_accuracy: 0.7315 - val_loss: 0.5574\n",
            "Epoch 4/5\n",
            "\u001b[1m1250/1250\u001b[0m \u001b[32m━━━━━━━━━━━━━━━━━━━━\u001b[0m\u001b[37m\u001b[0m \u001b[1m34s\u001b[0m 27ms/step - accuracy: 0.7943 - loss: 0.4521 - val_accuracy: 0.7892 - val_loss: 0.4748\n",
            "Epoch 5/5\n",
            "\u001b[1m1250/1250\u001b[0m \u001b[32m━━━━━━━━━━━━━━━━━━━━\u001b[0m\u001b[37m\u001b[0m \u001b[1m35s\u001b[0m 28ms/step - accuracy: 0.8624 - loss: 0.3222 - val_accuracy: 0.7947 - val_loss: 0.4919\n"
          ]
        },
        {
          "output_type": "execute_result",
          "data": {
            "text/plain": [
              "<keras.src.callbacks.history.History at 0x7c39c8ec5210>"
            ]
          },
          "metadata": {},
          "execution_count": 21
        }
      ],
      "source": [
        "modelRNN.fit(X_train, y_train, epochs=5, batch_size=32, validation_data=(X_test, y_test))"
      ]
    },
    {
      "cell_type": "code",
      "execution_count": 22,
      "id": "9b0c84e9",
      "metadata": {
        "execution": {
          "iopub.execute_input": "2024-08-01T13:46:05.516280Z",
          "iopub.status.busy": "2024-08-01T13:46:05.515902Z",
          "iopub.status.idle": "2024-08-01T13:46:07.922456Z",
          "shell.execute_reply": "2024-08-01T13:46:07.921410Z"
        },
        "papermill": {
          "duration": 3.114017,
          "end_time": "2024-08-01T13:46:07.924986",
          "exception": false,
          "start_time": "2024-08-01T13:46:04.810969",
          "status": "completed"
        },
        "tags": [],
        "id": "9b0c84e9",
        "colab": {
          "base_uri": "https://localhost:8080/"
        },
        "outputId": "5b2b1ab7-4101-4584-9f02-b47fdfe9f7f1"
      },
      "outputs": [
        {
          "output_type": "stream",
          "name": "stdout",
          "text": [
            "\u001b[1m313/313\u001b[0m \u001b[32m━━━━━━━━━━━━━━━━━━━━\u001b[0m\u001b[37m\u001b[0m \u001b[1m2s\u001b[0m 7ms/step\n"
          ]
        }
      ],
      "source": [
        "y_predRNN = modelRNN.predict(X_test)\n",
        "threshold = 0.5\n",
        "y_pred_classesr = (y_predRNN > threshold).astype(int)"
      ]
    },
    {
      "cell_type": "code",
      "execution_count": 23,
      "id": "f25f3848",
      "metadata": {
        "execution": {
          "iopub.execute_input": "2024-08-01T13:46:09.246951Z",
          "iopub.status.busy": "2024-08-01T13:46:09.246548Z",
          "iopub.status.idle": "2024-08-01T13:46:09.525811Z",
          "shell.execute_reply": "2024-08-01T13:46:09.524565Z"
        },
        "papermill": {
          "duration": 0.92622,
          "end_time": "2024-08-01T13:46:09.527975",
          "exception": false,
          "start_time": "2024-08-01T13:46:08.601755",
          "status": "completed"
        },
        "tags": [],
        "id": "f25f3848",
        "colab": {
          "base_uri": "https://localhost:8080/",
          "height": 564
        },
        "outputId": "b6287535-4833-4c3b-d4c0-005cd67c4718"
      },
      "outputs": [
        {
          "output_type": "display_data",
          "data": {
            "text/plain": [
              "<Figure size 800x600 with 2 Axes>"
            ],
            "image/png": "[encoded data removed]"
          },
          "metadata": {}
        }
      ],
      "source": [
        "conf_matrix = confusion_matrix(y_test, y_pred_classesr)\n",
        "plt.figure(figsize=(8, 6))\n",
        "sns.heatmap(conf_matrix, annot=True, fmt='d', cmap='Blues')\n",
        "plt.xlabel('Predicted')\n",
        "plt.ylabel('True')\n",
        "plt.title('Confusion Matrix')\n",
        "plt.show()"
      ]
    },
    {
      "cell_type": "code",
      "execution_count": 24,
      "id": "b5132af7",
      "metadata": {
        "execution": {
          "iopub.execute_input": "2024-08-01T13:46:10.884181Z",
          "iopub.status.busy": "2024-08-01T13:46:10.883255Z",
          "iopub.status.idle": "2024-08-01T13:46:10.912570Z",
          "shell.execute_reply": "2024-08-01T13:46:10.911511Z"
        },
        "papermill": {
          "duration": 0.680834,
          "end_time": "2024-08-01T13:46:10.914722",
          "exception": false,
          "start_time": "2024-08-01T13:46:10.233888",
          "status": "completed"
        },
        "tags": [],
        "colab": {
          "base_uri": "https://localhost:8080/"
        },
        "id": "b5132af7",
        "outputId": "ce4ea0ac-9f27-49f4-f962-befca212f9db"
      },
      "outputs": [
        {
          "output_type": "stream",
          "name": "stdout",
          "text": [
            "              precision    recall  f1-score   support\n",
            "\n",
            "           0       0.79      0.81      0.80      5025\n",
            "           1       0.80      0.78      0.79      4975\n",
            "\n",
            "    accuracy                           0.79     10000\n",
            "   macro avg       0.80      0.79      0.79     10000\n",
            "weighted avg       0.80      0.79      0.79     10000\n",
            "\n"
          ]
        }
      ],
      "source": [
        "print(classification_report(y_test, y_pred_classesr))"
      ]
    },
    {
      "cell_type": "markdown",
      "source": [
        "## Sentiment Prediction"
      ],
      "metadata": {
        "id": "8-Kc9iO2zcPq"
      },
      "id": "8-Kc9iO2zcPq"
    },
    {
      "cell_type": "code",
      "source": [
        "review = \"Basically there's a family where a little boy (Jake) thinks there's a zombie in his closet & his parents are fighting all the time.<br /><br />This movie is slower than a soap opera... and suddenly, Jake decides to become Rambo and kill the zombie.<br /><br />OK, first of all when you're going to make a film you must Decide if its a thriller or a drama! As a drama the movie is watchable. Parents are divorcing & arguing like in real life. And then we have Jake with his closet which totally ruins all the film! I expected to see a BOOGEYMAN similar movie, and instead i watched a drama with some meaningless thriller spots.<br /><br />3 out of 10 just for the well playing parents & descent dialogs. As for the shots with Jake: just ignore them.\"\n",
        "review = preprocess_text(review)\n",
        "\n",
        "review_sequence = tokenizer.texts_to_sequences([review])\n",
        "review_padded = pad_sequences(review_sequence, maxlen=100)\n",
        "\n",
        "\n",
        "prediction_1 = model.predict(review_padded)\n",
        "print(prediction_1)\n",
        "if prediction_1 > 0.5:\n",
        "    print('positive')\n",
        "else:\n",
        "    print('negative')"
      ],
      "metadata": {
        "colab": {
          "base_uri": "https://localhost:8080/"
        },
        "id": "zDpBIU6Rc6CR",
        "outputId": "724e76ca-68c5-44c8-eeda-f33f1a1d9d7f"
      },
      "id": "zDpBIU6Rc6CR",
      "execution_count": 25,
      "outputs": [
        {
          "output_type": "stream",
          "name": "stdout",
          "text": [
            "\u001b[1m1/1\u001b[0m \u001b[32m━━━━━━━━━━━━━━━━━━━━\u001b[0m\u001b[37m\u001b[0m \u001b[1m0s\u001b[0m 40ms/step\n",
            "[[0.01398673]]\n",
            "negative\n"
          ]
        }
      ]
    },
    {
      "cell_type": "code",
      "source": [
        "review_2 = \"A wonderful little production. <br /><br />The filming technique is very unassuming- very old-time-BBC fashion and gives a comforting, and sometimes discomforting, sense of realism to the entire piece. <br /><br />The actors are extremely well chosen- Michael Sheen not only has got all the polari but he has all the voices down pat too! You can truly see the seamless editing guided by the references to Williams' diary entries, not only is it well worth the watching but it is a terrificly written and performed piece. A masterful production about one of the great master's of comedy and his life. <br /><br />The realism really comes home with the little things: the fantasy of the guard which, rather than use the traditional 'dream' techniques remains solid then disappears. It plays on our knowledge and our senses, particularly with the scenes concerning Orton and Halliwell and the sets (particularly of their flat with Halliwell's murals decorating every surface) are terribly well done.\"\n",
        "review_2 = preprocess_text(review_2)\n",
        "\n",
        "review_sequence = tokenizer.texts_to_sequences([review_2])\n",
        "review_padded = pad_sequences(review_sequence, maxlen=100)\n",
        "\n",
        "\n",
        "prediction_2 = model.predict(review_padded)\n",
        "print(prediction_2)\n",
        "if prediction_2 > 0.5:\n",
        "    print('positive')\n",
        "else:\n",
        "    print('negative')"
      ],
      "metadata": {
        "colab": {
          "base_uri": "https://localhost:8080/"
        },
        "id": "6vH41W34hyEx",
        "outputId": "592ae2fd-e1d4-4212-85fc-037f9787db40"
      },
      "id": "6vH41W34hyEx",
      "execution_count": 26,
      "outputs": [
        {
          "output_type": "stream",
          "name": "stdout",
          "text": [
            "\u001b[1m1/1\u001b[0m \u001b[32m━━━━━━━━━━━━━━━━━━━━\u001b[0m\u001b[37m\u001b[0m \u001b[1m0s\u001b[0m 55ms/step\n",
            "[[0.99068695]]\n",
            "positive\n"
          ]
        }
      ]
    }
  ],
  "metadata": {
    "colab": {
      "provenance": []
    },
    "kaggle": {
      "accelerator": "none",
      "dataSources": [
        {
          "datasetId": 134715,
          "sourceId": 320111,
          "sourceType": "datasetVersion"
        }
      ],
      "dockerImageVersionId": 30746,
      "isGpuEnabled": false,
      "isInternetEnabled": true,
      "language": "python",
      "sourceType": "notebook"
    },
    "kernelspec": {
      "display_name": "Python 3",
      "language": "python",
      "name": "python3"
    },
    "language_info": {
      "codemirror_mode": {
        "name": "ipython",
        "version": 3
      },
      "file_extension": ".py",
      "mimetype": "text/x-python",
      "name": "python",
      "nbconvert_exporter": "python",
      "pygments_lexer": "ipython3",
      "version": "3.10.13"
    },
    "papermill": {
      "default_parameters": {},
      "duration": 895.24779,
      "end_time": "2024-08-01T13:46:13.450015",
      "environment_variables": {},
      "exception": null,
      "input_path": "__notebook__.ipynb",
      "output_path": "__notebook__.ipynb",
      "parameters": {},
      "start_time": "2024-08-01T13:31:18.202225",
      "version": "2.5.0"
    }
  },
  "nbformat": 4,
  "nbformat_minor": 5
}