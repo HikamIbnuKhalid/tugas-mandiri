{
 "cells": [
  {
   "cell_type": "code",
   "execution_count": 2,
   "metadata": {},
   "outputs": [
    {
     "name": "stdout",
     "output_type": "stream",
     "text": [
      "Jumlah pasangan kalimat: 14881\n",
      "  english                                         indonesian\n",
      "0     Hi.  Hai. (France) Attribution: tatoeba.org #538123...\n",
      "1    Run!  Lari! (France) Attribution: tatoeba.org #90632...\n",
      "2    Run.  Lari! (France) Attribution: tatoeba.org #40089...\n",
      "3    Who?  Siapa? (France) Attribution: tatoeba.org #2083...\n",
      "4    Wow!  Wow! (France) Attribution: tatoeba.org #52027 ...\n"
     ]
    }
   ],
   "source": [
    "import pandas as pd\n",
    "import re\n",
    "import unicodedata\n",
    "\n",
    "\n",
    "# Baca file\n",
    "with open('ind.txt', 'r', encoding='utf-8') as f:\n",
    "    lines = f.read().strip().split('\\n')\n",
    "\n",
    "# Proses setiap baris untuk memisahkan pasangan kalimat\n",
    "pairs = []\n",
    "for l in lines:\n",
    "    # Hapus atribusi CC-BY 2.0\n",
    "    if '\\tCC-BY 2.0' in l:\n",
    "        l = l.replace('\\tCC-BY 2.0', '')\n",
    "    parts = l.split('\\t')\n",
    "    if len(parts) == 2:\n",
    "        pairs.append(parts)\n",
    "\n",
    "# Buat DataFrame\n",
    "df = pd.DataFrame(pairs, columns=['english', 'indonesian'])\n",
    "print(\"Jumlah pasangan kalimat:\", len(df))\n",
    "print(df.head())"
   ]
  },
  {
   "cell_type": "code",
   "execution_count": 3,
   "metadata": {},
   "outputs": [
    {
     "name": "stdout",
     "output_type": "stream",
     "text": [
      "\n",
      "Contoh data setelah dibersihkan:\n",
      "  english_cleaned                                 indonesian_cleaned\n",
      "0            hi .   hai . france attribution tatoeba .org cm pacific\n",
      "1           run !  lari ! france attribution tatoeba .org papabea...\n",
      "2           run .  lari ! france attribution tatoeba .org jsakura...\n",
      "3           who ?  siapa ? france attribution tatoeba .org ck dba...\n",
      "4           wow !  wow ! france attribution tatoeba .org zifre db...\n"
     ]
    }
   ],
   "source": [
    "def normalize_string(s):\n",
    "    # Ubah unicode ke ASCII\n",
    "    s = ''.join(c for c in unicodedata.normalize('NFD', s) if unicodedata.category(c) != 'Mn')\n",
    "    # Hapus spasi berlebih, ubah ke huruf kecil\n",
    "    s = re.sub(r\"([.!?])\", r\" \\1\", s.lower().strip())\n",
    "    # Hapus karakter selain huruf dan tanda baca dasar\n",
    "    s = re.sub(r\"[^a-zA-Z.!?]+\", r\" \", s)\n",
    "    return s.strip()\n",
    "\n",
    "df['english_cleaned'] = df['english'].apply(normalize_string)\n",
    "df['indonesian_cleaned'] = df['indonesian'].apply(normalize_string)\n",
    "\n",
    "print(\"\\nContoh data setelah dibersihkan:\")\n",
    "print(df[['english_cleaned', 'indonesian_cleaned']].head())"
   ]
  },
  {
   "cell_type": "code",
   "execution_count": 4,
   "metadata": {},
   "outputs": [],
   "source": [
    "# Gabungkan semua data untuk melatih model SentencePiece\n",
    "with open('corpus.txt', 'w', encoding='utf-8') as f:\n",
    "    for sent in df['english_cleaned']:\n",
    "        f.write(sent + '\\n')\n",
    "    for sent in df['indonesian_cleaned']:\n",
    "        f.write(sent + '\\n')"
   ]
  },
  {
   "cell_type": "code",
   "execution_count": 5,
   "metadata": {},
   "outputs": [
    {
     "name": "stdout",
     "output_type": "stream",
     "text": [
      "Kalimat Inggris: hi .\n",
      "Token ID: [1354, 6]\n",
      "Subwords: ['▁hi', '▁.']\n"
     ]
    }
   ],
   "source": [
    "import sentencepiece as spm\n",
    "\n",
    "# Parameter untuk model SentencePiece\n",
    "vocab_size = 8000  # Ukuran vocabulary awal\n",
    "model_prefix = 'spm_model'\n",
    "model_type = 'bpe' # Bisa juga 'unigram'\n",
    "\n",
    "# Perintah untuk melatih model\n",
    "spm.SentencePieceTrainer.train(\n",
    "    f'--input=corpus.txt --model_prefix={model_prefix} '\n",
    "    f'--vocab_size={vocab_size} --model_type={model_type} '\n",
    "    f'--pad_id=0 --unk_id=1 --bos_id=2 --eos_id=3'\n",
    ")\n",
    "\n",
    "# Muat model yang sudah dilatih\n",
    "sp = spm.SentencePieceProcessor()\n",
    "sp.load(f'{model_prefix}.model')\n",
    "\n",
    "# Contoh tokenisasi\n",
    "english_sample = df['english_cleaned'].iloc[0]\n",
    "indonesian_sample = df['indonesian_cleaned'].iloc[0]\n",
    "\n",
    "print(\"Kalimat Inggris:\", english_sample)\n",
    "print(\"Token ID:\", sp.encode_as_ids(english_sample))\n",
    "print(\"Subwords:\", sp.encode_as_pieces(english_sample))"
   ]
  },
  {
   "cell_type": "code",
   "execution_count": 6,
   "metadata": {},
   "outputs": [
    {
     "name": "stdout",
     "output_type": "stream",
     "text": [
      "Ukuran data latih: 11904\n",
      "Ukuran data validasi: 1488\n",
      "Ukuran data uji: 1489\n"
     ]
    }
   ],
   "source": [
    "from sklearn.model_selection import train_test_split\n",
    "\n",
    "# Pisahkan data menjadi train (80%) dan temp (20%)\n",
    "train_df, temp_df = train_test_split(df, test_size=0.2, random_state=42)\n",
    "\n",
    "# Pisahkan data temp menjadi validation (10%) dan test (10%)\n",
    "valid_df, test_df = train_test_split(temp_df, test_size=0.5, random_state=42)\n",
    "\n",
    "print(f\"Ukuran data latih: {len(train_df)}\")\n",
    "print(f\"Ukuran data validasi: {len(valid_df)}\")\n",
    "print(f\"Ukuran data uji: {len(test_df)}\")\n",
    "\n",
    "# Simpan ke file untuk digunakan nanti\n",
    "train_df.to_csv('train.csv', index=False)\n",
    "valid_df.to_csv('valid.csv', index=False)\n",
    "test_df.to_csv('test.csv', index=False)"
   ]
  },
  {
   "cell_type": "code",
   "execution_count": 7,
   "metadata": {},
   "outputs": [],
   "source": [
    "import torch\n",
    "import torch.nn as nn\n",
    "import torch.optim as optim\n",
    "import torch.nn.functional as F\n",
    "import random\n",
    "import math\n",
    "\n",
    "# Pastikan menggunakan GPU jika tersedia\n",
    "device = torch.device('cuda' if torch.cuda.is_available() else 'cpu')\n",
    "\n",
    "# --- Encoder ---\n",
    "class Encoder(nn.Module):\n",
    "    def __init__(self, input_dim, emb_dim, hid_dim, n_layers, dropout):\n",
    "        super().__init__()\n",
    "        self.hid_dim = hid_dim\n",
    "        self.n_layers = n_layers\n",
    "        self.embedding = nn.Embedding(input_dim, emb_dim)\n",
    "        self.rnn = nn.GRU(emb_dim, hid_dim, n_layers, dropout=dropout)\n",
    "        self.dropout = nn.Dropout(dropout)\n",
    "\n",
    "    def forward(self, src):\n",
    "        # src = [src len, batch size]\n",
    "        embedded = self.dropout(self.embedding(src))\n",
    "        # embedded = [src len, batch size, emb dim]\n",
    "        outputs, hidden = self.rnn(embedded)\n",
    "        # outputs = [src len, batch size, hid dim * n directions]\n",
    "        # hidden = [n layers * n directions, batch size, hid dim]\n",
    "        return outputs, hidden\n",
    "\n",
    "# --- Attention ---\n",
    "class Attention(nn.Module):\n",
    "    def __init__(self, hid_dim):\n",
    "        super().__init__()\n",
    "        self.attn = nn.Linear(hid_dim * 2, hid_dim)\n",
    "        self.v = nn.Linear(hid_dim, 1, bias=False)\n",
    "\n",
    "    def forward(self, hidden, encoder_outputs):\n",
    "        # hidden = [batch size, hid dim]\n",
    "        # encoder_outputs = [src len, batch size, hid dim]\n",
    "        batch_size = encoder_outputs.shape[1]\n",
    "        src_len = encoder_outputs.shape[0]\n",
    "        hidden = hidden.unsqueeze(1).repeat(1, src_len, 1)\n",
    "        encoder_outputs = encoder_outputs.permute(1, 0, 2)\n",
    "        # hidden = [batch size, src len, hid dim]\n",
    "        # encoder_outputs = [batch size, src len, hid dim]\n",
    "        energy = torch.tanh(self.attn(torch.cat((hidden, encoder_outputs), dim=2)))\n",
    "        # energy = [batch size, src len, hid dim]\n",
    "        attention = self.v(energy).squeeze(2)\n",
    "        # attention = [batch size, src len]\n",
    "        return F.softmax(attention, dim=1)\n",
    "\n",
    "# --- Decoder ---\n",
    "class Decoder(nn.Module):\n",
    "    def __init__(self, output_dim, emb_dim, hid_dim, n_layers, dropout, attention):\n",
    "        super().__init__()\n",
    "        self.output_dim = output_dim\n",
    "        self.hid_dim = hid_dim\n",
    "        self.n_layers = n_layers\n",
    "        self.attention = attention\n",
    "        self.embedding = nn.Embedding(output_dim, emb_dim)\n",
    "        self.rnn = nn.GRU(hid_dim + emb_dim, hid_dim, n_layers, dropout=dropout)\n",
    "        self.fc_out = nn.Linear(hid_dim * 2 + emb_dim, output_dim)\n",
    "        self.dropout = nn.Dropout(dropout)\n",
    "\n",
    "    def forward(self, input, hidden, encoder_outputs):\n",
    "        # input = [batch size]\n",
    "        # hidden = [n layers, batch size, hid dim]\n",
    "        # encoder_outputs = [src len, batch size, hid dim]\n",
    "        input = input.unsqueeze(0)\n",
    "        # input = [1, batch size]\n",
    "        embedded = self.dropout(self.embedding(input))\n",
    "        # embedded = [1, batch size, emb dim]\n",
    "        a = self.attention(hidden[-1], encoder_outputs)\n",
    "        # a = [batch size, src len]\n",
    "        a = a.unsqueeze(1)\n",
    "        # a = [batch size, 1, src len]\n",
    "        encoder_outputs = encoder_outputs.permute(1, 0, 2)\n",
    "        # encoder_outputs = [batch size, src len, hid dim]\n",
    "        weighted = torch.bmm(a, encoder_outputs)\n",
    "        # weighted = [batch size, 1, hid dim]\n",
    "        weighted = weighted.permute(1, 0, 2)\n",
    "        # weighted = [1, batch size, hid dim]\n",
    "        rnn_input = torch.cat((embedded, weighted), dim=2)\n",
    "        # rnn_input = [1, batch size, hid dim + emb dim]\n",
    "        output, hidden = self.rnn(rnn_input, hidden)\n",
    "        # output = [1, batch size, hid dim]\n",
    "        # hidden = [n layers, batch size, hid dim]\n",
    "        embedded = embedded.squeeze(0)\n",
    "        output = output.squeeze(0)\n",
    "        weighted = weighted.squeeze(0)\n",
    "        prediction = self.fc_out(torch.cat((output, weighted, embedded), dim=1))\n",
    "        # prediction = [batch size, output dim]\n",
    "        return prediction, hidden\n",
    "\n",
    "# --- Seq2Seq Model ---\n",
    "class Seq2Seq(nn.Module):\n",
    "    def __init__(self, encoder, decoder, device):\n",
    "        super().__init__()\n",
    "        self.encoder = encoder\n",
    "        self.decoder = decoder\n",
    "        self.device = device\n",
    "\n",
    "    def forward(self, src, trg, teacher_forcing_ratio=0.5):\n",
    "        # src = [src len, batch size]\n",
    "        # trg = [trg len, batch size]\n",
    "        batch_size = trg.shape[1]\n",
    "        trg_len = trg.shape[0]\n",
    "        trg_vocab_size = self.decoder.output_dim\n",
    "        outputs = torch.zeros(trg_len, batch_size, trg_vocab_size).to(self.device)\n",
    "        encoder_outputs, hidden = self.encoder(src)\n",
    "        input = trg[0, :]\n",
    "        for t in range(1, trg_len):\n",
    "            output, hidden = self.decoder(input, hidden, encoder_outputs)\n",
    "            outputs[t] = output\n",
    "            teacher_force = random.random() < teacher_forcing_ratio\n",
    "            top1 = output.argmax(1)\n",
    "            input = trg[t] if teacher_force else top1\n",
    "        return outputs"
   ]
  },
  {
   "cell_type": "code",
   "execution_count": 8,
   "metadata": {},
   "outputs": [],
   "source": [
    "from torch.utils.data import Dataset, DataLoader\n",
    "from torch.nn.utils.rnn import pad_sequence\n",
    "\n",
    "class TranslationDataset(Dataset):\n",
    "    def __init__(self, df, sp_model):\n",
    "        self.df = df\n",
    "        self.sp = sp_model\n",
    "        self.bos_id = self.sp.bos_id()\n",
    "        self.eos_id = self.sp.eos_id()\n",
    "\n",
    "    def __len__(self):\n",
    "        return len(self.df)\n",
    "\n",
    "    def __getitem__(self, idx):\n",
    "        src_text = self.df.iloc[idx]['indonesian_cleaned']\n",
    "        trg_text = self.df.iloc[idx]['english_cleaned']\n",
    "        src_tensor = torch.tensor([self.bos_id] + self.sp.encode_as_ids(src_text) + [self.eos_id])\n",
    "        trg_tensor = torch.tensor([self.bos_id] + self.sp.encode_as_ids(trg_text) + [self.eos_id])\n",
    "        return src_tensor, trg_tensor\n",
    "\n",
    "def collate_fn(batch):\n",
    "    src_batch, trg_batch = [], []\n",
    "    for src_sample, trg_sample in batch:\n",
    "        src_batch.append(src_sample)\n",
    "        trg_batch.append(trg_sample)\n",
    "    # Pad sequences dengan padding_value=0 (PAD_ID)\n",
    "    src_padded = pad_sequence(src_batch, padding_value=0, batch_first=False)\n",
    "    trg_padded = pad_sequence(trg_batch, padding_value=0, batch_first=False)\n",
    "    return src_padded, trg_padded\n",
    "\n",
    "# Buat instance Dataset dan DataLoader\n",
    "train_dataset = TranslationDataset(train_df, sp)\n",
    "valid_dataset = TranslationDataset(valid_df, sp)\n",
    "\n",
    "BATCH_SIZE = 64\n",
    "train_iterator = DataLoader(train_dataset, batch_size=BATCH_SIZE, shuffle=True, collate_fn=collate_fn)\n",
    "valid_iterator = DataLoader(valid_dataset, batch_size=BATCH_SIZE, collate_fn=collate_fn)"
   ]
  },
  {
   "cell_type": "code",
   "execution_count": 11,
   "metadata": {},
   "outputs": [],
   "source": [
    "from tqdm import tqdm"
   ]
  },
  {
   "cell_type": "code",
   "execution_count": 12,
   "metadata": {},
   "outputs": [
    {
     "name": "stderr",
     "output_type": "stream",
     "text": [
      "                                                                      \r"
     ]
    },
    {
     "name": "stdout",
     "output_type": "stream",
     "text": [
      "Epoch: 01 | Train Loss: 5.036 | Val. Loss: 4.647\n"
     ]
    },
    {
     "name": "stderr",
     "output_type": "stream",
     "text": [
      "                                                                      \r"
     ]
    },
    {
     "name": "stdout",
     "output_type": "stream",
     "text": [
      "Epoch: 02 | Train Loss: 4.130 | Val. Loss: 4.229\n"
     ]
    },
    {
     "name": "stderr",
     "output_type": "stream",
     "text": [
      "                                                                      \r"
     ]
    },
    {
     "name": "stdout",
     "output_type": "stream",
     "text": [
      "Epoch: 03 | Train Loss: 3.583 | Val. Loss: 3.915\n"
     ]
    },
    {
     "name": "stderr",
     "output_type": "stream",
     "text": [
      "                                                                      \r"
     ]
    },
    {
     "name": "stdout",
     "output_type": "stream",
     "text": [
      "Epoch: 04 | Train Loss: 3.105 | Val. Loss: 3.629\n"
     ]
    },
    {
     "name": "stderr",
     "output_type": "stream",
     "text": [
      "                                                                      \r"
     ]
    },
    {
     "name": "stdout",
     "output_type": "stream",
     "text": [
      "Epoch: 05 | Train Loss: 2.640 | Val. Loss: 3.524\n"
     ]
    },
    {
     "name": "stderr",
     "output_type": "stream",
     "text": [
      "                                                                      \r"
     ]
    },
    {
     "name": "stdout",
     "output_type": "stream",
     "text": [
      "Epoch: 06 | Train Loss: 2.243 | Val. Loss: 3.394\n"
     ]
    },
    {
     "name": "stderr",
     "output_type": "stream",
     "text": [
      "                                                                      \r"
     ]
    },
    {
     "name": "stdout",
     "output_type": "stream",
     "text": [
      "Epoch: 07 | Train Loss: 1.927 | Val. Loss: 3.337\n"
     ]
    },
    {
     "name": "stderr",
     "output_type": "stream",
     "text": [
      "                                                                      \r"
     ]
    },
    {
     "name": "stdout",
     "output_type": "stream",
     "text": [
      "Epoch: 08 | Train Loss: 1.634 | Val. Loss: 3.397\n"
     ]
    },
    {
     "name": "stderr",
     "output_type": "stream",
     "text": [
      "                                                                      \r"
     ]
    },
    {
     "name": "stdout",
     "output_type": "stream",
     "text": [
      "Epoch: 09 | Train Loss: 1.429 | Val. Loss: 3.439\n"
     ]
    },
    {
     "name": "stderr",
     "output_type": "stream",
     "text": [
      "                                                                       "
     ]
    },
    {
     "name": "stdout",
     "output_type": "stream",
     "text": [
      "Epoch: 10 | Train Loss: 1.259 | Val. Loss: 3.464\n"
     ]
    },
    {
     "name": "stderr",
     "output_type": "stream",
     "text": [
      "\r"
     ]
    }
   ],
   "source": [
    "INPUT_DIM = vocab_size\n",
    "OUTPUT_DIM = vocab_size\n",
    "ENC_EMB_DIM = 256\n",
    "DEC_EMB_DIM = 256\n",
    "HID_DIM = 512\n",
    "N_LAYERS = 2\n",
    "ENC_DROPOUT = 0.5\n",
    "DEC_DROPOUT = 0.5\n",
    "\n",
    "attn = Attention(HID_DIM)\n",
    "enc = Encoder(INPUT_DIM, ENC_EMB_DIM, HID_DIM, N_LAYERS, ENC_DROPOUT)\n",
    "dec = Decoder(OUTPUT_DIM, DEC_EMB_DIM, HID_DIM, N_LAYERS, DEC_DROPOUT, attn)\n",
    "\n",
    "model = Seq2Seq(enc, dec, device).to(device)\n",
    "\n",
    "# Inisialisasi bobot\n",
    "def init_weights(m):\n",
    "    for name, param in m.named_parameters():\n",
    "        nn.init.uniform_(param.data, -0.08, 0.08)\n",
    "model.apply(init_weights)\n",
    "\n",
    "optimizer = optim.Adam(model.parameters())\n",
    "criterion = nn.CrossEntropyLoss(ignore_index=0) # Abaikan padding token\n",
    "\n",
    "def train(model, iterator, optimizer, criterion, clip):\n",
    "    model.train()\n",
    "    epoch_loss = 0\n",
    "\n",
    "    # Bungkus iterator dengan tqdm\n",
    "    progress_bar = tqdm(iterator, desc='Training', leave=False)\n",
    "\n",
    "    for i, (src, trg) in enumerate(progress_bar):\n",
    "        src, trg = src.to(device), trg.to(device)\n",
    "        optimizer.zero_grad()\n",
    "        output = model(src, trg)\n",
    "        output_dim = output.shape[-1]\n",
    "        output = output[1:].view(-1, output_dim)\n",
    "        trg = trg[1:].view(-1)\n",
    "        loss = criterion(output, trg)\n",
    "        loss.backward()\n",
    "        torch.nn.utils.clip_grad_norm_(model.parameters(), clip)\n",
    "        optimizer.step()\n",
    "        epoch_loss += loss.item()\n",
    "\n",
    "        # Update progress bar dengan nilai loss saat ini\n",
    "        progress_bar.set_postfix({'loss': loss.item()})\n",
    "\n",
    "    return epoch_loss / len(iterator)\n",
    "\n",
    "def evaluate(model, iterator, criterion):\n",
    "    model.eval()\n",
    "    epoch_loss = 0\n",
    "\n",
    "    # Bungkus iterator dengan tqdm\n",
    "    progress_bar = tqdm(iterator, desc='Validating', leave=False)\n",
    "\n",
    "    with torch.no_grad():\n",
    "        for i, (src, trg) in enumerate(progress_bar):\n",
    "            src, trg = src.to(device), trg.to(device)\n",
    "            output = model(src, trg, 0) # Turn off teacher forcing\n",
    "            output_dim = output.shape[-1]\n",
    "            output = output[1:].view(-1, output_dim)\n",
    "            trg = trg[1:].view(-1)\n",
    "            loss = criterion(output, trg)\n",
    "            epoch_loss += loss.item()\n",
    "            progress_bar.set_postfix({'loss': loss.item()})\n",
    "\n",
    "    return epoch_loss / len(iterator)\n",
    "# Proses training hingga konvergen\n",
    "N_EPOCHS = 10\n",
    "CLIP = 1\n",
    "best_valid_loss = float('inf')\n",
    "\n",
    "train_losses, valid_losses = [], []\n",
    "\n",
    "for epoch in range(N_EPOCHS):\n",
    "    train_loss = train(model, train_iterator, optimizer, criterion, CLIP)\n",
    "    valid_loss = evaluate(model, valid_iterator, criterion)\n",
    "    train_losses.append(train_loss)\n",
    "    valid_losses.append(valid_loss)\n",
    "\n",
    "    if valid_loss < best_valid_loss:\n",
    "        best_valid_loss = valid_loss\n",
    "        torch.save(model.state_dict(), 's2s-attention-model.pt')\n",
    "\n",
    "    print(f'Epoch: {epoch+1:02} | Train Loss: {train_loss:.3f} | Val. Loss: {valid_loss:.3f}')"
   ]
  },
  {
   "cell_type": "code",
   "execution_count": 13,
   "metadata": {},
   "outputs": [],
   "source": [
    "class LabelSmoothingLoss(nn.Module):\n",
    "    def __init__(self, classes, padding_idx, smoothing=0.1):\n",
    "        super(LabelSmoothingLoss, self).__init__()\n",
    "        self.criterion = nn.KLDivLoss(reduction='sum')\n",
    "        self.padding_idx = padding_idx\n",
    "        self.confidence = 1.0 - smoothing\n",
    "        self.smoothing = smoothing\n",
    "        self.cls = classes\n",
    "\n",
    "    def forward(self, x, target):\n",
    "        # x: [batch_size * seq_len, vocab_size]\n",
    "        # target: [batch_size * seq_len]\n",
    "        assert x.size(1) == self.cls\n",
    "        true_dist = x.data.clone()\n",
    "        true_dist.fill_(self.smoothing / (self.cls - 2))\n",
    "        true_dist.scatter_(1, target.data.unsqueeze(1), self.confidence)\n",
    "        true_dist[:, self.padding_idx] = 0\n",
    "        mask = torch.nonzero(target.data == self.padding_idx, as_tuple=False)\n",
    "        if mask.dim() > 0:\n",
    "            true_dist.index_fill_(0, mask.squeeze(), 0.0)\n",
    "\n",
    "        return self.criterion(F.log_softmax(x, dim=1), true_dist)\n",
    "\n",
    "# Ganti criterion lama dengan yang baru saat melatih Transformer\n",
    "# criterion = LabelSmoothingLoss(classes=OUTPUT_DIM, padding_idx=0, smoothing=0.1)"
   ]
  },
  {
   "cell_type": "code",
   "execution_count": 16,
   "metadata": {},
   "outputs": [
    {
     "data": {
      "image/png": "[encoded data removed]",
      "text/plain": [
       "<Figure size 1000x600 with 1 Axes>"
      ]
     },
     "metadata": {},
     "output_type": "display_data"
    }
   ],
   "source": [
    "import matplotlib.pyplot as plt\n",
    "\n",
    "plt.figure(figsize=(10, 6))\n",
    "plt.plot(train_losses, label='Train Loss')\n",
    "plt.plot(valid_losses, label='Validation Loss')\n",
    "plt.title('Training & Validation Loss (Seq2Seq with Attention)')\n",
    "plt.xlabel('Epoch')\n",
    "plt.ylabel('Loss')\n",
    "plt.legend()\n",
    "plt.grid(True)\n",
    "plt.show()"
   ]
  },
  {
   "cell_type": "code",
   "execution_count": 17,
   "metadata": {},
   "outputs": [
    {
     "name": "stdout",
     "output_type": "stream",
     "text": [
      "SacreBLEU Score (Seq2Seq Attention): 21.3643503198117\n"
     ]
    }
   ],
   "source": [
    "def translate_sentence(sentence, sp_model, model, device, max_len=50):\n",
    "    model.eval()\n",
    "    # Tokenisasi dan tambahkan token BOS/EOS\n",
    "    tokens = [sp_model.bos_id()] + sp_model.encode_as_ids(sentence) + [sp_model.eos_id()]\n",
    "    src_tensor = torch.LongTensor(tokens).unsqueeze(1).to(device)\n",
    "\n",
    "    # (Implementasi logic untuk Seq2Seq dan Transformer berbeda)\n",
    "    # Untuk Seq2Seq:\n",
    "    with torch.no_grad():\n",
    "        encoder_outputs, hidden = model.encoder(src_tensor)\n",
    "\n",
    "    trg_indexes = [sp_model.bos_id()]\n",
    "    for i in range(max_len):\n",
    "        trg_tensor = torch.LongTensor([trg_indexes[-1]]).to(device)\n",
    "        with torch.no_grad():\n",
    "            output, hidden = model.decoder(trg_tensor, hidden, encoder_outputs)\n",
    "        pred_token = output.argmax(1).item()\n",
    "        trg_indexes.append(pred_token)\n",
    "        if pred_token == sp_model.eos_id():\n",
    "            break\n",
    "\n",
    "    trg_tokens = sp_model.decode(trg_indexes)\n",
    "    return trg_tokens\n",
    "\n",
    "# Hitung BLEU score pada data test\n",
    "from sacrebleu.metrics import BLEU\n",
    "\n",
    "bleu = BLEU()\n",
    "targets = []\n",
    "predictions_s2s = []\n",
    "# predictions_transformer = [] # Jika sudah melatih transformer\n",
    "\n",
    "# Muat model terbaik\n",
    "model.load_state_dict(torch.load('s2s-attention-model.pt'))\n",
    "\n",
    "for index, row in test_df.iterrows():\n",
    "    src = row['indonesian_cleaned']\n",
    "    trg = row['english_cleaned']\n",
    "\n",
    "    prediction = translate_sentence(src, sp, model, device)\n",
    "\n",
    "    predictions_s2s.append(prediction)\n",
    "    targets.append([trg]) # sacrebleu butuh referensi dalam list\n",
    "\n",
    "bleu_score = bleu.corpus_score(predictions_s2s, targets)\n",
    "print(f\"SacreBLEU Score (Seq2Seq Attention): {bleu_score.score}\")"
   ]
  },
  {
   "cell_type": "code",
   "execution_count": 18,
   "metadata": {},
   "outputs": [
    {
     "name": "stdout",
     "output_type": "stream",
     "text": [
      "Sumber (ID): dilarang melewati garis putih . france attribution tatoeba .org sundown hagni\n",
      "Target (EN): crossing the white line is forbidden .\n",
      "Prediksi (S2S): the forbidden is forbidden to the white .\n",
      "\n",
      "Sumber (ID): aku akan mengambilnya kembali dari tom . france attribution tatoeba .org ck bilmanda\n",
      "Target (EN): i will get it back from tom .\n",
      "Prediksi (S2S): i ll going to from tom .\n",
      "\n",
      "Sumber (ID): spesies burung itu dikatakan terancam punah . france attribution tatoeba .org cm pacific\n",
      "Target (EN): that species of bird is said to be in danger of dying out .\n",
      "Prediksi (S2S): the united nationsony was success independ independ .\n",
      "\n",
      "Sumber (ID): dia dijatuhi hukuman mati . france attribution tatoeba .org ck pacific\n",
      "Target (EN): he was sentenced to death .\n",
      "Prediksi (S2S): he was condemged to death .\n",
      "\n",
      "Sumber (ID): aku akan bertanggung jawab penuh . france attribution tatoeba .org ck bilmanda\n",
      "Target (EN): i m going to take full responsibility .\n",
      "Prediksi (S2S): i m going to europe .\n",
      "\n"
     ]
    }
   ],
   "source": [
    "# Tampilkan beberapa contoh\n",
    "for i in range(5):\n",
    "    print(f\"Sumber (ID): {test_df['indonesian_cleaned'].iloc[i]}\")\n",
    "    print(f\"Target (EN): {targets[i][0]}\")\n",
    "    print(f\"Prediksi (S2S): {predictions_s2s[i]}\\n\")\n"
   ]
  }
 ],
 "metadata": {
  "kernelspec": {
   "display_name": "venv",
   "language": "python",
   "name": "python3"
  },
  "language_info": {
   "codemirror_mode": {
    "name": "ipython",
    "version": 3
   },
   "file_extension": ".py",
   "mimetype": "text/x-python",
   "name": "python",
   "nbconvert_exporter": "python",
   "pygments_lexer": "ipython3",
   "version": "3.11.0"
  }
 },
 "nbformat": 4,
 "nbformat_minor": 2
}
